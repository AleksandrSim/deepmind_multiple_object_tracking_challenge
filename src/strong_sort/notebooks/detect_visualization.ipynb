{
 "cells": [
  {
   "cell_type": "code",
   "execution_count": null,
   "id": "8f8513f4-53ae-41e4-9c33-3b8ec5a8ba90",
   "metadata": {},
   "outputs": [],
   "source": [
    "from collections import defaultdict\n",
    "\n",
    "import cv2\n",
    "import torch\n",
    "import numpy as np\n",
    "from argus import load_model\n",
    "import matplotlib.pyplot as plt\n",
    "import torchvision\n",
    "from torch.utils.data import DataLoader\n",
    "\n",
    "from src.detect.utils import cxcywh2xyxy\n",
    "from src.detect.dataset import DetectDataset\n",
    "from src.detect.transforms import val_transform, train_transform\n",
    "from src.detect.yolox.metamodel import YOLOXMetaModel\n",
    "\n",
    "%load_ext autoreload\n",
    "%autoreload 2"
   ]
  },
  {
   "cell_type": "code",
   "execution_count": null,
   "id": "bcf028c4-43d9-45b2-b740-59f474d9b208",
   "metadata": {},
   "outputs": [],
   "source": [
    "input_size = (640, 640)\n",
    "img_dir='/workdir/data/datasets/train/'\n",
    "annot_file='/workdir/data/annot/converted_train.json'\n",
    "samples_range = (0.0, 0.1)\n",
    "transform = train_transform(input_size=input_size, fill_value=127, max_labels=128)"
   ]
  },
  {
   "cell_type": "code",
   "execution_count": null,
   "id": "456cdeb2-9bb2-4034-86d1-4a35b2b8b821",
   "metadata": {},
   "outputs": [],
   "source": [
    "dataset = DetectDataset(img_dir=img_dir,\n",
    "                        annot_file=annot_file,\n",
    "                        samples_range=samples_range,\n",
    "                        transform=transform)\n",
    "loader = DataLoader(\n",
    "        dataset, batch_size=4,\n",
    "        num_workers=1,\n",
    "        pin_memory=True,\n",
    "        shuffle=False)"
   ]
  },
  {
   "cell_type": "code",
   "execution_count": null,
   "id": "ce872ccf-947b-416c-9661-d94db014e762",
   "metadata": {},
   "outputs": [],
   "source": [
    "batch = next(iter(loader))"
   ]
  },
  {
   "cell_type": "code",
   "execution_count": null,
   "id": "4928bec6-d7d8-40ed-aef4-7856cf307cfe",
   "metadata": {},
   "outputs": [],
   "source": [
    "def show_img(img):\n",
    "    plt.figure(dpi=200)\n",
    "    plt.imshow(img[:,:,::-1])\n",
    "    plt.show()\n",
    "\n",
    "def visualize_img(img_tensor, bbox_tensor=None, bbox_color=(255,0,0), cx: bool = True):\n",
    "    img = img_tensor.clone().cpu().numpy() * 255.0\n",
    "    img = np.moveaxis(img, 0, -1)\n",
    "    img = np.clip(img, 0, 255).astype(np.uint8)\n",
    "    img_cv = cv2.UMat(img)\n",
    "    if bbox_tensor is not None:\n",
    "        bboxes = bbox_tensor.clone().cpu().numpy()\n",
    "        if cx:\n",
    "            bboxes = cxcywh2xyxy(bboxes)\n",
    "        for bbox in bboxes:\n",
    "            if np.any(bbox>0):\n",
    "                x1, y1, x2, y2 = map(int, bbox)\n",
    "                cv2.rectangle(img_cv, (x1, y1), (x2, y2), bbox_color, 2)\n",
    "    show_img(img_cv.get())\n",
    "    \n",
    "    "
   ]
  },
  {
   "cell_type": "code",
   "execution_count": null,
   "id": "ee48db73-09e1-4781-aab1-7b70aa2bd75c",
   "metadata": {},
   "outputs": [],
   "source": [
    "batch[1].shape"
   ]
  },
  {
   "cell_type": "code",
   "execution_count": null,
   "id": "fbbc487c-3d5d-4e4c-8515-1b7aed7cbbdc",
   "metadata": {},
   "outputs": [],
   "source": [
    "visualize_img(batch[0][0], batch[1][0, :, 1:])"
   ]
  },
  {
   "cell_type": "code",
   "execution_count": null,
   "id": "449e4634-3399-4ff0-9bd1-d5c42e9953fd",
   "metadata": {},
   "outputs": [],
   "source": [
    "model = load_model('/workdir/data/experiments/YOLOX_train_001/model-002-0.664820.pth', device='cuda:0')"
   ]
  },
  {
   "cell_type": "code",
   "execution_count": null,
   "id": "e18b50da-527a-45c7-b584-58980f84c97b",
   "metadata": {},
   "outputs": [],
   "source": [
    "pred = model.predict(batch[0])"
   ]
  },
  {
   "cell_type": "code",
   "execution_count": null,
   "id": "320de486-7d64-49b7-900a-45fac1dd73dc",
   "metadata": {},
   "outputs": [],
   "source": []
  },
  {
   "cell_type": "code",
   "execution_count": null,
   "id": "e6b76df8-7988-4967-b80a-e465eb998d06",
   "metadata": {},
   "outputs": [],
   "source": [
    "def postprocess(prediction, conf_thre=0.7, nms_thre=0.45, class_agnostic=False):\n",
    "    box_corner = prediction.new(prediction.shape)\n",
    "    box_corner[:, :, 0] = prediction[:, :, 0] - prediction[:, :, 2] / 2\n",
    "    box_corner[:, :, 1] = prediction[:, :, 1] - prediction[:, :, 3] / 2\n",
    "    box_corner[:, :, 2] = prediction[:, :, 0] + prediction[:, :, 2] / 2\n",
    "    box_corner[:, :, 3] = prediction[:, :, 1] + prediction[:, :, 3] / 2\n",
    "    prediction[:, :, :4] = box_corner[:, :, :4]\n",
    "\n",
    "    output = [None for _ in range(len(prediction))]\n",
    "    for i, image_pred in enumerate(prediction):\n",
    "\n",
    "        # If none are remaining => process next image\n",
    "        if not image_pred.size(0):\n",
    "            continue\n",
    "        # Get score and class with highest confidence\n",
    "        class_conf, class_pred = torch.max(image_pred[:, 4: 5], 1, keepdim=True)\n",
    "        #print(class_pred)\n",
    "\n",
    "        conf_mask = (image_pred[:, 4] >= conf_thre).squeeze()\n",
    "        # Detections ordered as (x1, y1, x2, y2, obj_conf, class_conf, class_pred)\n",
    "        detections = torch.cat((image_pred[:, :4], class_conf, class_pred.float()), 1)\n",
    "        #print(detections)\n",
    "        detections = detections[conf_mask]\n",
    "        if not detections.size(0):\n",
    "            continue\n",
    "\n",
    "        if class_agnostic:\n",
    "            nms_out_index = torchvision.ops.nms(\n",
    "                detections[:, :4],\n",
    "                detections[:, 4] * detections[:, 5],\n",
    "                nms_thre,\n",
    "            )\n",
    "        else:\n",
    "            nms_out_index = torchvision.ops.batched_nms(\n",
    "                detections[:, :4],\n",
    "                detections[:, 4] * detections[:, 5],\n",
    "                detections[:, 6],\n",
    "                nms_thre,\n",
    "            )\n",
    "\n",
    "        detections = detections[nms_out_index]\n",
    "        if output[i] is None:\n",
    "            output[i] = detections\n",
    "        else:\n",
    "            output[i] = torch.cat((output[i], detections))\n",
    "\n",
    "    return output"
   ]
  },
  {
   "cell_type": "code",
   "execution_count": null,
   "id": "39424c7a-2991-4465-a38f-6fa70cafa6ce",
   "metadata": {},
   "outputs": [],
   "source": [
    "output = postprocess(pred.clone(), conf_thre=0.3, class_agnostic=True)\n",
    "if output[0] is not None:\n",
    "    print(output[0].shape)"
   ]
  },
  {
   "cell_type": "code",
   "execution_count": null,
   "id": "9cef1c9e-b7bd-449f-b8a9-18a42bb3a203",
   "metadata": {},
   "outputs": [],
   "source": [
    "visualize_img(batch[0][0], output[0][:, :4], cx=False)"
   ]
  },
  {
   "cell_type": "code",
   "execution_count": null,
   "id": "18d03206-de32-462c-80e2-5cd8472fd6b7",
   "metadata": {},
   "outputs": [],
   "source": []
  }
 ],
 "metadata": {
  "kernelspec": {
   "display_name": "Python 3 (ipykernel)",
   "language": "python",
   "name": "python3"
  },
  "language_info": {
   "codemirror_mode": {
    "name": "ipython",
    "version": 3
   },
   "file_extension": ".py",
   "mimetype": "text/x-python",
   "name": "python",
   "nbconvert_exporter": "python",
   "pygments_lexer": "ipython3",
   "version": "3.11.4"
  }
 },
 "nbformat": 4,
 "nbformat_minor": 5
}
